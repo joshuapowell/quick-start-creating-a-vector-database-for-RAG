{
 "cells": [
  {
   "cell_type": "markdown",
   "id": "9dd51190",
   "metadata": {},
   "source": [
    "## Install and Import Dependencies"
   ]
  },
  {
   "cell_type": "code",
   "execution_count": null,
   "id": "894ad35a",
   "metadata": {},
   "outputs": [],
   "source": [
    "%pip install chromadb\n",
    "%pip install pypdf\n",
    "%pip install langchain\n",
    "%pip install sentence-transformers\n",
    "\n",
    "import chromadb\n",
    "import json\n",
    "import pypdf\n",
    "\n",
    "from langchain.text_splitter import RecursiveCharacterTextSplitter\n",
    "from sentence_transformers import SentenceTransformer\n"
   ]
  },
  {
   "cell_type": "markdown",
   "id": "51d30303",
   "metadata": {},
   "source": [
    "## Extract text from PDF"
   ]
  },
  {
   "cell_type": "code",
   "execution_count": 8,
   "id": "ad648cf1",
   "metadata": {},
   "outputs": [],
   "source": [
    "def extract_text_from_pdf(pdf_path):\n",
    "    \n",
    "    reader = pypdf.PdfReader(pdf_path)\n",
    "    \n",
    "    text = \"\"\n",
    "    \n",
    "    for page in reader.pages:\n",
    "        text += page.extract_text()\n",
    "    \n",
    "    return text"
   ]
  },
  {
   "cell_type": "code",
   "execution_count": null,
   "id": "96d16ff1",
   "metadata": {},
   "outputs": [],
   "source": [
    "pdf_extraction_results = extract_text_from_pdf([ENTER_PATH_TO_PDF])\n",
    "\n",
    "print(pdf_extraction_results)"
   ]
  },
  {
   "cell_type": "markdown",
   "id": "af9a3166",
   "metadata": {},
   "source": [
    "## Chunk extracted text"
   ]
  },
  {
   "cell_type": "code",
   "execution_count": null,
   "id": "8034bff7",
   "metadata": {},
   "outputs": [],
   "source": [
    "def split_text_into_chunks(text, chunk_size=1000, chunk_overlap=50):\n",
    "    text_splitter = RecursiveCharacterTextSplitter(\n",
    "        chunk_size=chunk_size,\n",
    "        chunk_overlap=chunk_overlap,\n",
    "        length_function=len,\n",
    "    )\n",
    "    chunks = text_splitter.split_text(text)\n",
    "    return chunks"
   ]
  },
  {
   "cell_type": "code",
   "execution_count": null,
   "id": "712c4652",
   "metadata": {},
   "outputs": [],
   "source": [
    "chunks_ = split_text_into_chunks(pdf_extraction_results)\n",
    "\n",
    "print(chunks_)"
   ]
  },
  {
   "cell_type": "markdown",
   "id": "00b2cef3",
   "metadata": {},
   "source": [
    "## Generate embeddings"
   ]
  },
  {
   "cell_type": "code",
   "execution_count": null,
   "id": "182ca764",
   "metadata": {},
   "outputs": [],
   "source": [
    "def generate_embeddings(texts, model_name='all-MiniLM-L6-v2'):\n",
    "    model = SentenceTransformer(model_name)\n",
    "    embeddings = model.encode(texts).tolist()\n",
    "    return embeddings"
   ]
  },
  {
   "cell_type": "code",
   "execution_count": null,
   "id": "1b614c63",
   "metadata": {},
   "outputs": [],
   "source": [
    "embeddings_ = generate_embeddings(chunks_)"
   ]
  },
  {
   "cell_type": "markdown",
   "id": "b52999d3",
   "metadata": {},
   "source": [
    "## Add extracted chunks with embeddings to vector database"
   ]
  },
  {
   "cell_type": "code",
   "execution_count": 26,
   "id": "ea69ae9e",
   "metadata": {},
   "outputs": [],
   "source": [
    "chroma_client = chromadb.HttpClient(host='localhost', port=8000)\n",
    "\n",
    "def populate_chroma_db(chunks, embeddings, pdf_name=\"my_document\"):\n",
    "    \n",
    "    collection_name = f\"{pdf_name}_collection\"\n",
    "\n",
    "    # Delete existing collection if it exists to ensure a clean start\n",
    "    try:\n",
    "        chroma_client.delete_collection(name=collection_name)\n",
    "    except:\n",
    "        pass # Collection might not exist\n",
    "        \n",
    "    collection = chroma_client.create_collection(name=collection_name, get_or_create=True)\n",
    "\n",
    "    ids = [f\"{pdf_name}_chunk_{i}\" for i in range(len(chunks))]\n",
    "    metadatas = [{\"source\": pdf_name, \"chunk_index\": i} for i in range(len(chunks))]\n",
    "\n",
    "    collection.add(\n",
    "        documents=chunks,\n",
    "        embeddings=embeddings,\n",
    "        metadatas=metadatas,\n",
    "        ids=ids\n",
    "    )\n",
    "    print(f\"ChromaDB collection '{collection_name}' populated successfully.\")\n",
    "    \n",
    "    return collection"
   ]
  },
  {
   "cell_type": "code",
   "execution_count": 27,
   "id": "07e5727c",
   "metadata": {},
   "outputs": [
    {
     "name": "stdout",
     "output_type": "stream",
     "text": [
      "ChromaDB collection 'my_document_collection' populated successfully.\n"
     ]
    },
    {
     "data": {
      "text/plain": [
       "Collection(name=my_document_collection)"
      ]
     },
     "execution_count": 27,
     "metadata": {},
     "output_type": "execute_result"
    }
   ],
   "source": [
    "populate_chroma_db(chunks_, embeddings_)"
   ]
  },
  {
   "cell_type": "code",
   "execution_count": 34,
   "id": "c1677e0c",
   "metadata": {},
   "outputs": [
    {
     "name": "stdout",
     "output_type": "stream",
     "text": [
      "{\n",
      "  \"ids\": [\n",
      "    [\n",
      "      \"my_document_chunk_719\",\n",
      "      \"my_document_chunk_721\",\n",
      "      \"my_document_chunk_715\",\n",
      "      \"my_document_chunk_780\",\n",
      "      \"my_document_chunk_781\",\n",
      "      \"my_document_chunk_1047\",\n",
      "      \"my_document_chunk_1036\",\n",
      "      \"my_document_chunk_1652\",\n",
      "      \"my_document_chunk_1623\",\n",
      "      \"my_document_chunk_703\"\n",
      "    ]\n",
      "  ],\n",
      "  \"distances\": [\n",
      "    [\n",
      "      1.3385776,\n",
      "      1.347585,\n",
      "      1.4251977,\n",
      "      1.4343776,\n",
      "      1.4407043,\n",
      "      1.4696727,\n",
      "      1.4785804,\n",
      "      1.5143957,\n",
      "      1.5177609,\n",
      "      1.5238764\n",
      "    ]\n",
      "  ],\n",
      "  \"embeddings\": null,\n",
      "  \"metadatas\": [\n",
      "    [\n",
      "      {\n",
      "        \"chunk_index\": 719,\n",
      "        \"source\": \"my_document\"\n",
      "      },\n",
      "      {\n",
      "        \"source\": \"my_document\",\n",
      "        \"chunk_index\": 721\n",
      "      },\n",
      "      {\n",
      "        \"source\": \"my_document\",\n",
      "        \"chunk_index\": 715\n",
      "      },\n",
      "      {\n",
      "        \"source\": \"my_document\",\n",
      "        \"chunk_index\": 780\n",
      "      },\n",
      "      {\n",
      "        \"chunk_index\": 781,\n",
      "        \"source\": \"my_document\"\n",
      "      },\n",
      "      {\n",
      "        \"chunk_index\": 1047,\n",
      "        \"source\": \"my_document\"\n",
      "      },\n",
      "      {\n",
      "        \"source\": \"my_document\",\n",
      "        \"chunk_index\": 1036\n",
      "      },\n",
      "      {\n",
      "        \"chunk_index\": 1652,\n",
      "        \"source\": \"my_document\"\n",
      "      },\n",
      "      {\n",
      "        \"source\": \"my_document\",\n",
      "        \"chunk_index\": 1623\n",
      "      },\n",
      "      {\n",
      "        \"source\": \"my_document\",\n",
      "        \"chunk_index\": 703\n",
      "      }\n",
      "    ]\n",
      "  ],\n",
      "  \"documents\": [\n",
      "    [\n",
      "      \"************************************************\\n           SET PGMPTR TO ENTRY \\\"USRHDLR\\\".\\n           MOVE ZERO TO TOKEN.\\n           CALL \\\"CEEHDLR\\\" USING PGMPTR TOKEN FC.\\n           IF CEE000 of FC  THEN\\n               DISPLAY \\\"EXCOND: REGISTERED USRHDLR.\\\"\\n           ELSE\\n               DISPLAY \\\"CEEHDLR failed with msg \\\"\\n                   Msg-No of FC UPON CONSOLE\\n               STOP RUN\\n           END-IF.\\n      **************************************************************\\n      ** Call DIVZERO to force a divide-by-zero and drive USRHDLR **\\n      **************************************************************\\n           MOVE 00 TO DIVISOR.\\n           CALL \\\"DIVZERO\\\" USING DIVISOR.\\n           DISPLAY \\\"EXCOND: RESUMED AFTER DIVZERO.\\\".\\n      ***************************************************\\n      ** Unregister the user-written condition handler.**\\n      ***************************************************\\n           CALL \\\"CEEHDLU\\\" USING PGMPTR FC.\\n           IF CEE000 of FC  THEN\",\n",
      "      \"USRHDLR program (COBOL)\\nThe following example shows the user-written condition handler registered by EXCOND to handle the\\ndivide-by-zero condition. When the divide-by-zero condition arises, USRHDLR calls CEEMRCR with a 0\\ntype of move. Doing so moves the resume cursor to the point in EXCOND after the call to DIVZERO.\\nCBL LIB,QUOTE\\n      *Module/File Name: IGZTDIVU\\n      ******************************************************\\n      *                                                    *\\n      * USRHDLR                                            *\\n      *                                                    *\\n      ******************************************************\\n       IDENTIFICATION DIVISION.\\n       PROGRAM-ID. USRHDLR.\\n       DATA DIVISION.\\n       WORKING-STORAGE SECTION.\\n       01  MISC-VARIABLES.\\n           02  MOVE-TYPE-0     PIC S9(9) BINARY VALUE ZERO.\\n           02  MOVE-TYPE-1     PIC S9(9) BINARY VALUE 1.\\n       01  FEEDBACK.\\n           02  FB-SEVERITY     PIC 9(4)  BINARY.\",\n",
      "      \"if ( _FBCHECK ( fc , CEE000 ) != 0 ) {\\n    printf( \\\"CEEHDLU failed with message number %d\\\\n\\\",\\n       fc.tok_msgno);\\n    exit(99);\\n   }\\n printf(\\\"MAIN: Unregistered USRHDLR.\\\\n\\\");\\n} /* end main */\\nvoid divzero(int arg) {\\n printf(\\\"  DIVZERO: Starting.\\\\n\\\");\\n arg = 1 / arg;\\n printf(\\\"  DIVZERO: Returning to its caller.\\\\n\\\");\\n} /* end divzero */\\n/**********************************************************/\\n/* usrhdlr will handle DIVIDE-BY-ZERO conditions...       */\\n/*    all others will be percolated.                      */\\n/**********************************************************/\\nvoid usrhdlr(_FEEDBACK *cond,_INT4 *input_token,\\n             _INT4 *result, _FEEDBACK *new_cond)\\n {\\n  _INT4 move_type_0 = 0;\\n  _INT4 move_type_1 = 1;\\n  _FEEDBACK feedback;\\n  /* values for handling the conditions */\\n  #define resume      10\\n  #define percolate   20\\n  #define promote     30\\n  #define promote_sf  31\\n  printf(\\\">>> USRHDLR: Entered User Handler \\\\n\\\");\",\n",
      "      \"*\\n*        Register User Handler\\n*\\n         LA    R1,USRHDLPP        Get addr of proc-ptr to Handler rtn\\n         ST    R1,PARM1           Make it 1st parameter\\n         LA    R1,TOKEN           Get addr of 32-bit token\\n         ST    R1,PARM2           Make it 2nd parameter\\n         LA    R1,0               Omit address for Feedback Code:\\n*                                      If an error occurs while\\n*                                      registering the handler,\\n*                                      Language Environment signals\\n*                                      the condition, rather than\\n*                                      passing it back to caller\\n         ST    R1,PARM3           Make it 3rd parameter\\n         LA    R1,HDLRPLST        Point to parameter list for CEEHDLR\\n         CALL  CEEHDLR            Invoke CEEHDLR callable service AWI\\n*\\n*        Call subroutine to cause an exception\\n*\\n         CALL  LEASMHD2\\n*\\n*        Un-Register User Handler\\n*\",\n",
      "      \"*\\n*        Un-Register User Handler\\n*\\n         LA    R1,USRHDLPP        Get addr of proc-ptr to Handler rtn\\n         ST    R1,HDLUPRM1        Make it 1st parameter\\n         LA    R1,FEEDBACK        Address for Feedback Code\\n         ST    R1,HDLUPRM2        Make it 2nd parameter\\n         LA    R1,HDLUPLST        Point to parameter list for CEEHDLU\\n         CALL  CEEHDLU            Invoke CEEHDLU callable service AWI*\\n*        Bid fond farewell\\n*\\n         WTO   'CEEHDRA Says \\\"GOOD-BYE\\\"',ROUTCDE=11\\n*\\n*        Epilogue\\n*\\n         CEETERM RC=4,MODIFIER=1  Terminate program\\n*\\nUser-written condition handler\\nChapter 17. Coding a user-written condition handler\\u00a0\\u00a0227*        Program Constants and Local Static Variables\\n*\\nUSRHDLPP DC    V(LEASMHD3),A(0)   Procedure-pointer to Handler routine\\n*\\n         LTORG ,                  Place literal pool here\\n         SPACE 3\\nPPA1     CEEPPA ,                 Program Prolog Area for this routine\\n         EJECT\\n*\",\n",
      "      \"%INCLUDE CEEIBMLC; /* Locale category constants     */\\n /* CEESETL service call arguments */\\n DCL LOCALE_NAME CHAR(14) VARYING;\\n /* CEEFMON service call arguments */\\n DCL MONETARY REAL FLOAT DEC(16);   /* input value   */\\n DCL MAXSIZE_FMON BIN FIXED(31);    /* output size   */\\n DCL FORMAT_FMON CHAR(256) VARYING; /* format spec   */\\n DCL RESULT_FMON BIN FIXED(31);     /* result status */\\n DCL OUTPUT_FMON CHAR(60) VARYING;  /* output string */\\n DCL 01 FC,                        /* Feedback token */\\n        03 MsgSev    REAL FIXED BINARY(15,0),\\n        03 MsgNo     REAL FIXED BINARY(15,0),\\n        03 Flags,\\n           05 Case      BIT(2),\\n           05 Severity  BIT(3),\\n           05 Control   BIT(3),\\n        03 FacID     CHAR(3),       /* Facility ID */\\n        03 ISI      /* Instance-Specific Information */\\n                     REAL FIXED BINARY(31,0);\\n   /* init locale name to United States */\\n   LOCALE_NAME = 'En_US.IBM-1047';\\n   /* use LC_ALL category constant from CEEIBMLC */\",\n",
      "      \"DCL SECONDS         REAL FLOAT DECIMAL(16);\\n    DCL COUNTRY         CHARACTER ( 2 );\\n    DCL GERMANY         CHARACTER ( 2 )INIT ('DE');\\n    DCL 01 FC,                      /* Feedback token */\\n           03 MsgSev    REAL FIXED BINARY(15,0),\\n           03 MsgNo     REAL FIXED BINARY(15,0),\\n           03 Flags,\\n              05 Case      BIT(2),\\n              05 Severity  BIT(3),\\n              05 Control   BIT(3),\\n           03 FacID     CHAR(3),    /* Facility ID */\\n           03 ISI                   /* Instance-Specific Information */\\n                        REAL FIXED BINARY(31,0);\\n    DCL TIMESTP         CHAR(80);\\n    DCL PICSTR          CHAR(80);\\n    DCL PIC_VSTR        CHAR(255) VARYING;\\n    /********************************************************/\\n    /* Query country setting                                */\\n    /********************************************************/\\n    FUNCTN = QUERY_COUNTRY;\\n    CALL CEE3CTY ( FUNCTN, COUNTRY, FC );\",\n",
      "      \"registering with CEEHDLR 176\\nrole in Language Environment condition management\\nmodel 175\\nsyntax for 202\\nUSRHDLR runtime option and 204\\nUSRHDLR runtime option\\ndescription 204\\nV\\nvariables\\nexported 36\\nvector instruction exceptions 192\\nW\\nWAIT command 424\\nwarning error message (severity 1) 268\\nworking storage 140\\nwritable static\\nhandled by prelinker 484\\nwritable static map 487\\nWRITE command 424\\nWTO command\\nCEEMOUT callable service and 424\\ntable of equivalent Language Environment services 424\\nX\\nXCTL command 424\\nXITPTR 376\\nXPLINK (Extra Performance Linkage)\\nCEEXR cataluged procedure 91\\ndefinition 23\\nXPLINK (Extra Performance Linkage) (continued)\\ndownward-growing stack 24\\nglue code 25\\nguard page 25\\nhow to enable 31\\nlibraries\\nSCEEBIND 6\\nnon-XPLINK application 24\\nregister conventions 29\\nruntime option 31\\nstack overflow 28\\nwhen it should be used 30\\nXPLINK application 24\\nXPLINK environment 24\\nXPLINK stack 25\\nXPLINK stack frame layout 26\\nXPLINK (XPLINK)\\nlibraries\\nSCEELIB 6\",\n",
      "      \"assembler user exit and 359\\nCEEHDLR and 422\\nCEEHDLU and 422\\nCEESGL and 422\\ntable of equivalent Language Environment services 422\\nTRAP runtime option and 358\\nuser-written condition handlers and 358\\nhandle cursor\\npromote action and 203\\nheader files\\nstdlib.h and the __R1 and __osplist macros 506\\nheader files (continued)\\nsymbolic feedback code files and 235, 237\\nheap pool\\nimprove performance of heap storage allocation 149\\nheap pools\\napplications which should use 150\\nIBM-supplied defaults for CICS 354\\nIBM-supplied defaults for non-CICS 103\\ntuning heap storage 151\\nheap storage\\nAMODE considerations of 151\\ncallable services for\\nrelationship to GETMAIN/FREEMAIN host services\\n422, 424\\nexamples of HLL data stored in 148\\nheap element\\nheap storage model and 148, 151, 160\\nheap increment\\nwhen allocated 148\\nheap storage model 148, 151\\ninitial heap segment\\nheap storage model and 151\\nperformance and 151\\nwhen allocated 148\\nleaks 149\\nlifetime of 148\\nprogram management model and 140\",\n",
      "      \"code (fc)\\nSeverity Message number Fixup action\\nCEE0CE 1 398 Fixup with new input value. The service that\\nsignaled the condition is invoked again with the\\nnew argument value provided by the handler as\\nqualifying data.\\nCEE0CF 1 399 Fixup with new output value. The service that\\nsignaled the condition returns as its result, the\\nvalue provided by the handler as qualifying data.\\nRegistering user-written condition handlers using USRHDLR\\nUse the USRHDLR runtime option to register a user-written condition handler to run at one of the\\nfollowing times (or both):\\n\\u2022 At stack frame 0, the condition handler specified as lmname is invoked after the default HLL condition\\nhandler for the main program, but before the HLL condition handler for stack frame 0. The condition\\npercolated or promoted by this user-written condition handler is not passed to any other condition\\nhandler.\\n\\u2022 The condition handler specified as lmname2 is given control after each condition completes the\"\n",
      "    ]\n",
      "  ],\n",
      "  \"uris\": null,\n",
      "  \"data\": null,\n",
      "  \"included\": [\n",
      "    \"metadatas\",\n",
      "    \"documents\",\n",
      "    \"distances\"\n",
      "  ]\n",
      "}\n"
     ]
    }
   ],
   "source": [
    "collection = chroma_client.create_collection(name=\"my_document_collection\", get_or_create=True)\n",
    "\n",
    "results = collection.query(\n",
    "    query_texts=[\"USRHDLR\"], # Chroma will embed this for you\n",
    "    n_results=10\n",
    ")\n",
    "\n",
    "json_results = json.dumps(results, indent=2)\n",
    "\n",
    "print(json_results)"
   ]
  }
 ],
 "metadata": {
  "kernelspec": {
   "display_name": "sandbox_vector_database",
   "language": "python",
   "name": "python3"
  },
  "language_info": {
   "codemirror_mode": {
    "name": "ipython",
    "version": 3
   },
   "file_extension": ".py",
   "mimetype": "text/x-python",
   "name": "python",
   "nbconvert_exporter": "python",
   "pygments_lexer": "ipython3",
   "version": "3.13.2"
  }
 },
 "nbformat": 4,
 "nbformat_minor": 5
}
