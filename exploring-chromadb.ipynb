{
 "cells": [
  {
   "cell_type": "markdown",
   "id": "5aa6c6f6",
   "metadata": {},
   "source": [
    "# Playground for learning about vector databases\n",
    "\n",
    "I'm working to learn more about how I can use large language models (LLM) with retrieval-augmented generation (RAG) to improve existing process and work-pipelines by offloading repetitive tasks. A part of expanding my knowledge around LLMs and RAG includes being able to generate a body of knowledge that is specific to the process or work-pipeline that I'm targeting at the time.\n",
    "\n",
    "To help me focus on getting to a RAG and not be swallowed by the vast amount of information on the topic or the other options like knowledge graphs, I've decided to begin my exploration using [Chroma](https://docs.trychroma.com/docs/overview/introduction) (Chroma). Chroma is an open-source (Apache 2.0) vector database that, from what I can tell, provides a simple Python SDK and CLI that I can use to build out my knowledge base."
   ]
  },
  {
   "cell_type": "markdown",
   "id": "2d6acf0b",
   "metadata": {},
   "source": [
    "## Getting Started\n",
    "\n",
    "Before we can run any of the code in this notebook, it's expected that you've satisfied the following requirments:\n",
    "\n",
    "1. Install the required dependencies (`poetry install`) inside of an virtual environment (`pyenv`). \n",
    "2. A started Chroma instance exists (`chroma run`)"
   ]
  },
  {
   "cell_type": "markdown",
   "id": "a9048eb6",
   "metadata": {},
   "source": [
    "## Install and Import Dependencies\n",
    "\n",
    "The code demonstrated in this notebook only requires the `chromadb` package, however, to make our output easier to read I've also decided to use the `json` package."
   ]
  },
  {
   "cell_type": "code",
   "execution_count": 5,
   "id": "776ad061",
   "metadata": {},
   "outputs": [
    {
     "name": "stdout",
     "output_type": "stream",
     "text": [
      "Requirement already satisfied: chromadb in /Users/joshuapowell/.pyenv/versions/sandbox_vector_database/lib/python3.13/site-packages (1.0.15)\n",
      "Requirement already satisfied: build>=1.0.3 in /Users/joshuapowell/.pyenv/versions/sandbox_vector_database/lib/python3.13/site-packages (from chromadb) (1.2.2.post1)\n",
      "Requirement already satisfied: pydantic>=1.9 in /Users/joshuapowell/.pyenv/versions/sandbox_vector_database/lib/python3.13/site-packages (from chromadb) (2.11.7)\n",
      "Requirement already satisfied: pybase64>=1.4.1 in /Users/joshuapowell/.pyenv/versions/sandbox_vector_database/lib/python3.13/site-packages (from chromadb) (1.4.1)\n",
      "Requirement already satisfied: uvicorn>=0.18.3 in /Users/joshuapowell/.pyenv/versions/sandbox_vector_database/lib/python3.13/site-packages (from uvicorn[standard]>=0.18.3->chromadb) (0.35.0)\n",
      "Requirement already satisfied: numpy>=1.22.5 in /Users/joshuapowell/.pyenv/versions/sandbox_vector_database/lib/python3.13/site-packages (from chromadb) (2.3.1)\n",
      "Requirement already satisfied: posthog<6.0.0,>=2.4.0 in /Users/joshuapowell/.pyenv/versions/sandbox_vector_database/lib/python3.13/site-packages (from chromadb) (5.4.0)\n",
      "Requirement already satisfied: typing-extensions>=4.5.0 in /Users/joshuapowell/.pyenv/versions/sandbox_vector_database/lib/python3.13/site-packages (from chromadb) (4.14.0)\n",
      "Requirement already satisfied: onnxruntime>=1.14.1 in /Users/joshuapowell/.pyenv/versions/sandbox_vector_database/lib/python3.13/site-packages (from chromadb) (1.22.0)\n",
      "Requirement already satisfied: opentelemetry-api>=1.2.0 in /Users/joshuapowell/.pyenv/versions/sandbox_vector_database/lib/python3.13/site-packages (from chromadb) (1.34.1)\n",
      "Requirement already satisfied: opentelemetry-exporter-otlp-proto-grpc>=1.2.0 in /Users/joshuapowell/.pyenv/versions/sandbox_vector_database/lib/python3.13/site-packages (from chromadb) (1.34.1)\n",
      "Requirement already satisfied: opentelemetry-sdk>=1.2.0 in /Users/joshuapowell/.pyenv/versions/sandbox_vector_database/lib/python3.13/site-packages (from chromadb) (1.34.1)\n",
      "Requirement already satisfied: tokenizers>=0.13.2 in /Users/joshuapowell/.pyenv/versions/sandbox_vector_database/lib/python3.13/site-packages (from chromadb) (0.21.2)\n",
      "Requirement already satisfied: pypika>=0.48.9 in /Users/joshuapowell/.pyenv/versions/sandbox_vector_database/lib/python3.13/site-packages (from chromadb) (0.48.9)\n",
      "Requirement already satisfied: tqdm>=4.65.0 in /Users/joshuapowell/.pyenv/versions/sandbox_vector_database/lib/python3.13/site-packages (from chromadb) (4.67.1)\n",
      "Requirement already satisfied: overrides>=7.3.1 in /Users/joshuapowell/.pyenv/versions/sandbox_vector_database/lib/python3.13/site-packages (from chromadb) (7.7.0)\n",
      "Requirement already satisfied: importlib-resources in /Users/joshuapowell/.pyenv/versions/sandbox_vector_database/lib/python3.13/site-packages (from chromadb) (6.5.2)\n",
      "Requirement already satisfied: grpcio>=1.58.0 in /Users/joshuapowell/.pyenv/versions/sandbox_vector_database/lib/python3.13/site-packages (from chromadb) (1.73.1)\n",
      "Requirement already satisfied: bcrypt>=4.0.1 in /Users/joshuapowell/.pyenv/versions/sandbox_vector_database/lib/python3.13/site-packages (from chromadb) (4.3.0)\n",
      "Requirement already satisfied: typer>=0.9.0 in /Users/joshuapowell/.pyenv/versions/sandbox_vector_database/lib/python3.13/site-packages (from chromadb) (0.16.0)\n",
      "Requirement already satisfied: kubernetes>=28.1.0 in /Users/joshuapowell/.pyenv/versions/sandbox_vector_database/lib/python3.13/site-packages (from chromadb) (33.1.0)\n",
      "Requirement already satisfied: tenacity>=8.2.3 in /Users/joshuapowell/.pyenv/versions/sandbox_vector_database/lib/python3.13/site-packages (from chromadb) (9.1.2)\n",
      "Requirement already satisfied: pyyaml>=6.0.0 in /Users/joshuapowell/.pyenv/versions/sandbox_vector_database/lib/python3.13/site-packages (from chromadb) (6.0.2)\n",
      "Requirement already satisfied: mmh3>=4.0.1 in /Users/joshuapowell/.pyenv/versions/sandbox_vector_database/lib/python3.13/site-packages (from chromadb) (5.1.0)\n",
      "Requirement already satisfied: orjson>=3.9.12 in /Users/joshuapowell/.pyenv/versions/sandbox_vector_database/lib/python3.13/site-packages (from chromadb) (3.10.18)\n",
      "Requirement already satisfied: httpx>=0.27.0 in /Users/joshuapowell/.pyenv/versions/sandbox_vector_database/lib/python3.13/site-packages (from chromadb) (0.28.1)\n",
      "Requirement already satisfied: rich>=10.11.0 in /Users/joshuapowell/.pyenv/versions/sandbox_vector_database/lib/python3.13/site-packages (from chromadb) (14.0.0)\n",
      "Requirement already satisfied: jsonschema>=4.19.0 in /Users/joshuapowell/.pyenv/versions/sandbox_vector_database/lib/python3.13/site-packages (from chromadb) (4.24.0)\n",
      "Requirement already satisfied: requests<3.0,>=2.7 in /Users/joshuapowell/.pyenv/versions/sandbox_vector_database/lib/python3.13/site-packages (from posthog<6.0.0,>=2.4.0->chromadb) (2.32.4)\n",
      "Requirement already satisfied: six>=1.5 in /Users/joshuapowell/.pyenv/versions/sandbox_vector_database/lib/python3.13/site-packages (from posthog<6.0.0,>=2.4.0->chromadb) (1.17.0)\n",
      "Requirement already satisfied: python-dateutil>=2.2 in /Users/joshuapowell/.pyenv/versions/sandbox_vector_database/lib/python3.13/site-packages (from posthog<6.0.0,>=2.4.0->chromadb) (2.9.0.post0)\n",
      "Requirement already satisfied: backoff>=1.10.0 in /Users/joshuapowell/.pyenv/versions/sandbox_vector_database/lib/python3.13/site-packages (from posthog<6.0.0,>=2.4.0->chromadb) (1.11.1)\n",
      "Requirement already satisfied: distro>=1.5.0 in /Users/joshuapowell/.pyenv/versions/sandbox_vector_database/lib/python3.13/site-packages (from posthog<6.0.0,>=2.4.0->chromadb) (1.9.0)\n",
      "Requirement already satisfied: charset_normalizer<4,>=2 in /Users/joshuapowell/.pyenv/versions/sandbox_vector_database/lib/python3.13/site-packages (from requests<3.0,>=2.7->posthog<6.0.0,>=2.4.0->chromadb) (3.4.2)\n",
      "Requirement already satisfied: idna<4,>=2.5 in /Users/joshuapowell/.pyenv/versions/sandbox_vector_database/lib/python3.13/site-packages (from requests<3.0,>=2.7->posthog<6.0.0,>=2.4.0->chromadb) (3.10)\n",
      "Requirement already satisfied: urllib3<3,>=1.21.1 in /Users/joshuapowell/.pyenv/versions/sandbox_vector_database/lib/python3.13/site-packages (from requests<3.0,>=2.7->posthog<6.0.0,>=2.4.0->chromadb) (2.5.0)\n",
      "Requirement already satisfied: certifi>=2017.4.17 in /Users/joshuapowell/.pyenv/versions/sandbox_vector_database/lib/python3.13/site-packages (from requests<3.0,>=2.7->posthog<6.0.0,>=2.4.0->chromadb) (2025.6.15)\n",
      "Requirement already satisfied: packaging>=19.1 in /Users/joshuapowell/.pyenv/versions/sandbox_vector_database/lib/python3.13/site-packages (from build>=1.0.3->chromadb) (25.0)\n",
      "Requirement already satisfied: pyproject_hooks in /Users/joshuapowell/.pyenv/versions/sandbox_vector_database/lib/python3.13/site-packages (from build>=1.0.3->chromadb) (1.2.0)\n",
      "Requirement already satisfied: anyio in /Users/joshuapowell/.pyenv/versions/sandbox_vector_database/lib/python3.13/site-packages (from httpx>=0.27.0->chromadb) (4.9.0)\n",
      "Requirement already satisfied: httpcore==1.* in /Users/joshuapowell/.pyenv/versions/sandbox_vector_database/lib/python3.13/site-packages (from httpx>=0.27.0->chromadb) (1.0.9)\n",
      "Requirement already satisfied: h11>=0.16 in /Users/joshuapowell/.pyenv/versions/sandbox_vector_database/lib/python3.13/site-packages (from httpcore==1.*->httpx>=0.27.0->chromadb) (0.16.0)\n",
      "Requirement already satisfied: attrs>=22.2.0 in /Users/joshuapowell/.pyenv/versions/sandbox_vector_database/lib/python3.13/site-packages (from jsonschema>=4.19.0->chromadb) (25.3.0)\n",
      "Requirement already satisfied: jsonschema-specifications>=2023.03.6 in /Users/joshuapowell/.pyenv/versions/sandbox_vector_database/lib/python3.13/site-packages (from jsonschema>=4.19.0->chromadb) (2025.4.1)\n",
      "Requirement already satisfied: referencing>=0.28.4 in /Users/joshuapowell/.pyenv/versions/sandbox_vector_database/lib/python3.13/site-packages (from jsonschema>=4.19.0->chromadb) (0.36.2)\n",
      "Requirement already satisfied: rpds-py>=0.7.1 in /Users/joshuapowell/.pyenv/versions/sandbox_vector_database/lib/python3.13/site-packages (from jsonschema>=4.19.0->chromadb) (0.26.0)\n",
      "Requirement already satisfied: google-auth>=1.0.1 in /Users/joshuapowell/.pyenv/versions/sandbox_vector_database/lib/python3.13/site-packages (from kubernetes>=28.1.0->chromadb) (2.40.3)\n",
      "Requirement already satisfied: websocket-client!=0.40.0,!=0.41.*,!=0.42.*,>=0.32.0 in /Users/joshuapowell/.pyenv/versions/sandbox_vector_database/lib/python3.13/site-packages (from kubernetes>=28.1.0->chromadb) (1.8.0)\n",
      "Requirement already satisfied: requests-oauthlib in /Users/joshuapowell/.pyenv/versions/sandbox_vector_database/lib/python3.13/site-packages (from kubernetes>=28.1.0->chromadb) (2.0.0)\n",
      "Requirement already satisfied: oauthlib>=3.2.2 in /Users/joshuapowell/.pyenv/versions/sandbox_vector_database/lib/python3.13/site-packages (from kubernetes>=28.1.0->chromadb) (3.3.1)\n",
      "Requirement already satisfied: durationpy>=0.7 in /Users/joshuapowell/.pyenv/versions/sandbox_vector_database/lib/python3.13/site-packages (from kubernetes>=28.1.0->chromadb) (0.10)\n",
      "Requirement already satisfied: cachetools<6.0,>=2.0.0 in /Users/joshuapowell/.pyenv/versions/sandbox_vector_database/lib/python3.13/site-packages (from google-auth>=1.0.1->kubernetes>=28.1.0->chromadb) (5.5.2)\n",
      "Requirement already satisfied: pyasn1-modules>=0.2.1 in /Users/joshuapowell/.pyenv/versions/sandbox_vector_database/lib/python3.13/site-packages (from google-auth>=1.0.1->kubernetes>=28.1.0->chromadb) (0.4.2)\n",
      "Requirement already satisfied: rsa<5,>=3.1.4 in /Users/joshuapowell/.pyenv/versions/sandbox_vector_database/lib/python3.13/site-packages (from google-auth>=1.0.1->kubernetes>=28.1.0->chromadb) (4.2)\n",
      "Requirement already satisfied: pyasn1>=0.1.3 in /Users/joshuapowell/.pyenv/versions/sandbox_vector_database/lib/python3.13/site-packages (from rsa<5,>=3.1.4->google-auth>=1.0.1->kubernetes>=28.1.0->chromadb) (0.6.1)\n",
      "Requirement already satisfied: coloredlogs in /Users/joshuapowell/.pyenv/versions/sandbox_vector_database/lib/python3.13/site-packages (from onnxruntime>=1.14.1->chromadb) (15.0.1)\n",
      "Requirement already satisfied: flatbuffers in /Users/joshuapowell/.pyenv/versions/sandbox_vector_database/lib/python3.13/site-packages (from onnxruntime>=1.14.1->chromadb) (25.2.10)\n",
      "Requirement already satisfied: protobuf in /Users/joshuapowell/.pyenv/versions/sandbox_vector_database/lib/python3.13/site-packages (from onnxruntime>=1.14.1->chromadb) (5.29.5)\n",
      "Requirement already satisfied: sympy in /Users/joshuapowell/.pyenv/versions/sandbox_vector_database/lib/python3.13/site-packages (from onnxruntime>=1.14.1->chromadb) (1.14.0)\n",
      "Requirement already satisfied: importlib-metadata<8.8.0,>=6.0 in /Users/joshuapowell/.pyenv/versions/sandbox_vector_database/lib/python3.13/site-packages (from opentelemetry-api>=1.2.0->chromadb) (8.7.0)\n",
      "Requirement already satisfied: zipp>=3.20 in /Users/joshuapowell/.pyenv/versions/sandbox_vector_database/lib/python3.13/site-packages (from importlib-metadata<8.8.0,>=6.0->opentelemetry-api>=1.2.0->chromadb) (3.23.0)\n",
      "Requirement already satisfied: googleapis-common-protos~=1.52 in /Users/joshuapowell/.pyenv/versions/sandbox_vector_database/lib/python3.13/site-packages (from opentelemetry-exporter-otlp-proto-grpc>=1.2.0->chromadb) (1.70.0)\n",
      "Requirement already satisfied: opentelemetry-exporter-otlp-proto-common==1.34.1 in /Users/joshuapowell/.pyenv/versions/sandbox_vector_database/lib/python3.13/site-packages (from opentelemetry-exporter-otlp-proto-grpc>=1.2.0->chromadb) (1.34.1)\n",
      "Requirement already satisfied: opentelemetry-proto==1.34.1 in /Users/joshuapowell/.pyenv/versions/sandbox_vector_database/lib/python3.13/site-packages (from opentelemetry-exporter-otlp-proto-grpc>=1.2.0->chromadb) (1.34.1)\n",
      "Requirement already satisfied: opentelemetry-semantic-conventions==0.55b1 in /Users/joshuapowell/.pyenv/versions/sandbox_vector_database/lib/python3.13/site-packages (from opentelemetry-sdk>=1.2.0->chromadb) (0.55b1)\n",
      "Requirement already satisfied: annotated-types>=0.6.0 in /Users/joshuapowell/.pyenv/versions/sandbox_vector_database/lib/python3.13/site-packages (from pydantic>=1.9->chromadb) (0.7.0)\n",
      "Requirement already satisfied: pydantic-core==2.33.2 in /Users/joshuapowell/.pyenv/versions/sandbox_vector_database/lib/python3.13/site-packages (from pydantic>=1.9->chromadb) (2.33.2)\n",
      "Requirement already satisfied: typing-inspection>=0.4.0 in /Users/joshuapowell/.pyenv/versions/sandbox_vector_database/lib/python3.13/site-packages (from pydantic>=1.9->chromadb) (0.4.1)\n",
      "Requirement already satisfied: markdown-it-py>=2.2.0 in /Users/joshuapowell/.pyenv/versions/sandbox_vector_database/lib/python3.13/site-packages (from rich>=10.11.0->chromadb) (3.0.0)\n",
      "Requirement already satisfied: pygments<3.0.0,>=2.13.0 in /Users/joshuapowell/.pyenv/versions/sandbox_vector_database/lib/python3.13/site-packages (from rich>=10.11.0->chromadb) (2.19.2)\n",
      "Requirement already satisfied: mdurl~=0.1 in /Users/joshuapowell/.pyenv/versions/sandbox_vector_database/lib/python3.13/site-packages (from markdown-it-py>=2.2.0->rich>=10.11.0->chromadb) (0.1.2)\n",
      "Requirement already satisfied: huggingface-hub<1.0,>=0.16.4 in /Users/joshuapowell/.pyenv/versions/sandbox_vector_database/lib/python3.13/site-packages (from tokenizers>=0.13.2->chromadb) (0.33.2)\n",
      "Requirement already satisfied: filelock in /Users/joshuapowell/.pyenv/versions/sandbox_vector_database/lib/python3.13/site-packages (from huggingface-hub<1.0,>=0.16.4->tokenizers>=0.13.2->chromadb) (3.18.0)\n",
      "Requirement already satisfied: fsspec>=2023.5.0 in /Users/joshuapowell/.pyenv/versions/sandbox_vector_database/lib/python3.13/site-packages (from huggingface-hub<1.0,>=0.16.4->tokenizers>=0.13.2->chromadb) (2025.5.1)\n",
      "Requirement already satisfied: hf-xet<2.0.0,>=1.1.2 in /Users/joshuapowell/.pyenv/versions/sandbox_vector_database/lib/python3.13/site-packages (from huggingface-hub<1.0,>=0.16.4->tokenizers>=0.13.2->chromadb) (1.1.5)\n",
      "Requirement already satisfied: click>=8.0.0 in /Users/joshuapowell/.pyenv/versions/sandbox_vector_database/lib/python3.13/site-packages (from typer>=0.9.0->chromadb) (8.2.1)\n",
      "Requirement already satisfied: shellingham>=1.3.0 in /Users/joshuapowell/.pyenv/versions/sandbox_vector_database/lib/python3.13/site-packages (from typer>=0.9.0->chromadb) (1.5.4)\n",
      "Requirement already satisfied: httptools>=0.6.3 in /Users/joshuapowell/.pyenv/versions/sandbox_vector_database/lib/python3.13/site-packages (from uvicorn[standard]>=0.18.3->chromadb) (0.6.4)\n",
      "Requirement already satisfied: python-dotenv>=0.13 in /Users/joshuapowell/.pyenv/versions/sandbox_vector_database/lib/python3.13/site-packages (from uvicorn[standard]>=0.18.3->chromadb) (1.1.1)\n",
      "Requirement already satisfied: uvloop>=0.15.1 in /Users/joshuapowell/.pyenv/versions/sandbox_vector_database/lib/python3.13/site-packages (from uvicorn[standard]>=0.18.3->chromadb) (0.21.0)\n",
      "Requirement already satisfied: watchfiles>=0.13 in /Users/joshuapowell/.pyenv/versions/sandbox_vector_database/lib/python3.13/site-packages (from uvicorn[standard]>=0.18.3->chromadb) (1.1.0)\n",
      "Requirement already satisfied: websockets>=10.4 in /Users/joshuapowell/.pyenv/versions/sandbox_vector_database/lib/python3.13/site-packages (from uvicorn[standard]>=0.18.3->chromadb) (15.0.1)\n",
      "Requirement already satisfied: sniffio>=1.1 in /Users/joshuapowell/.pyenv/versions/sandbox_vector_database/lib/python3.13/site-packages (from anyio->httpx>=0.27.0->chromadb) (1.3.1)\n",
      "Requirement already satisfied: humanfriendly>=9.1 in /Users/joshuapowell/.pyenv/versions/sandbox_vector_database/lib/python3.13/site-packages (from coloredlogs->onnxruntime>=1.14.1->chromadb) (10.0)\n",
      "Requirement already satisfied: mpmath<1.4,>=1.1.0 in /Users/joshuapowell/.pyenv/versions/sandbox_vector_database/lib/python3.13/site-packages (from sympy->onnxruntime>=1.14.1->chromadb) (1.3.0)\n",
      "Note: you may need to restart the kernel to use updated packages.\n"
     ]
    }
   ],
   "source": [
    "%pip install chromadb\n",
    "\n",
    "import chromadb\n",
    "import json"
   ]
  },
  {
   "cell_type": "markdown",
   "id": "1297e115",
   "metadata": {},
   "source": [
    "## Connect to the running Chroma instance\n",
    "\n",
    "An instance of Chroma should be running at http://localhost:8000 after running the `chroma run` command in the virtual environment.\n"
   ]
  },
  {
   "cell_type": "code",
   "execution_count": 6,
   "id": "198f18d8",
   "metadata": {},
   "outputs": [],
   "source": [
    "chroma_client = chromadb.HttpClient(host='localhost', port=8000)"
   ]
  },
  {
   "cell_type": "markdown",
   "id": "62e8b3e3",
   "metadata": {},
   "source": [
    "## Create a collection to store our documents"
   ]
  },
  {
   "cell_type": "code",
   "execution_count": 9,
   "id": "e1e5ebd4",
   "metadata": {},
   "outputs": [],
   "source": [
    "collection = chroma_client.create_collection(name=\"documents\", get_or_create=True)"
   ]
  },
  {
   "cell_type": "markdown",
   "id": "1e61c7f7",
   "metadata": {},
   "source": [
    "## Add static sample documents to the collection"
   ]
  },
  {
   "cell_type": "code",
   "execution_count": 13,
   "id": "311c7aa4",
   "metadata": {},
   "outputs": [],
   "source": [
    "collection.delete(\n",
    "    ids=[\"id1\", \"id2\",],\n",
    ")\n",
    "\n",
    "collection.add(\n",
    "    ids=[\"id1\", \"id2\"],\n",
    "    documents=[\n",
    "        \"Title of a book to be processed\",\n",
    "        \"Title of another book to be processed\"\n",
    "    ]\n",
    ")"
   ]
  },
  {
   "cell_type": "markdown",
   "id": "9f532ef2",
   "metadata": {},
   "source": [
    "## Query the documents collection for existing records"
   ]
  },
  {
   "cell_type": "code",
   "execution_count": 14,
   "id": "0aefd157",
   "metadata": {},
   "outputs": [
    {
     "name": "stdout",
     "output_type": "stream",
     "text": [
      "{\n",
      "  \"ids\": [\n",
      "    [\n",
      "      \"id1\",\n",
      "      \"id2\"\n",
      "    ]\n",
      "  ],\n",
      "  \"distances\": [\n",
      "    [\n",
      "      1.6710149,\n",
      "      1.7113707\n",
      "    ]\n",
      "  ],\n",
      "  \"embeddings\": null,\n",
      "  \"metadatas\": [\n",
      "    [\n",
      "      null,\n",
      "      null\n",
      "    ]\n",
      "  ],\n",
      "  \"documents\": [\n",
      "    [\n",
      "      \"Title of a book to be processed\",\n",
      "      \"Title of another book to be processed\"\n",
      "    ]\n",
      "  ],\n",
      "  \"uris\": null,\n",
      "  \"data\": null,\n",
      "  \"included\": [\n",
      "    \"metadatas\",\n",
      "    \"documents\",\n",
      "    \"distances\"\n",
      "  ]\n",
      "}\n"
     ]
    }
   ],
   "source": [
    "results = collection.query(\n",
    "    query_texts=[\"This is a query document about hawaii\"], # Chroma will embed this for you\n",
    "    n_results=2 # how many results to return\n",
    ")\n",
    "\n",
    "json_results = json.dumps(results, indent=2)\n",
    "\n",
    "print(json_results)"
   ]
  },
  {
   "cell_type": "markdown",
   "id": "3b53233c",
   "metadata": {},
   "source": [
    "## Viewing the collection in the Chroma CLI\n",
    "\n",
    "The documents are viewable / queryable via the Chroma CLI as well. By executing `chroma browse --local documents` at a new terminal window, the documents added with the previous code cell should be viewable."
   ]
  },
  {
   "cell_type": "code",
   "execution_count": null,
   "id": "cc297181",
   "metadata": {},
   "outputs": [],
   "source": [
    "##\n",
    "#\n",
    "# WARNING: I was unable to get the following code block to \n",
    "#          display the table I wanted it to.\n",
    "#\n",
    "##\n",
    "\n",
    "import subprocess\n",
    "\n",
    "cli_result = subprocess.run([\n",
    "    \"chroma\",\n",
    "    \"browse\",\n",
    "    \"--local\",\n",
    "    \"documents\"\n",
    "], capture_output=True, text=True)\n",
    "\n",
    "print(cli_result.stderr)\n",
    "print(cli_result.stdout)\n"
   ]
  }
 ],
 "metadata": {
  "kernelspec": {
   "display_name": "sandbox_vector_database",
   "language": "python",
   "name": "python3"
  },
  "language_info": {
   "codemirror_mode": {
    "name": "ipython",
    "version": 3
   },
   "file_extension": ".py",
   "mimetype": "text/x-python",
   "name": "python",
   "nbconvert_exporter": "python",
   "pygments_lexer": "ipython3",
   "version": "3.13.2"
  }
 },
 "nbformat": 4,
 "nbformat_minor": 5
}
