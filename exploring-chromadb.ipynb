{
 "cells": [
  {
   "cell_type": "markdown",
   "id": "5aa6c6f6",
   "metadata": {},
   "source": [
    "# Playground for learning about vector databases\n",
    "\n",
    "I'm working to learn more about how I can use large language models (LLM) with retrieval-augmented generation (RAG) to improve existing process and work-pipelines by offloading repetitive tasks. A part of expanding my knowledge around LLMs and RAG includes being able to generate a body of knowledge that is specific to the process or work-pipeline that I'm targeting at the time.\n",
    "\n",
    "To help me focus on getting to a RAG and not be swallowed by the vast amount of information on the topic or the other options like knowledge graphs, I've decided to begin my exploration using [Chroma](https://docs.trychroma.com/docs/overview/introduction) (Chroma). Chroma is an open-source (Apache 2.0) vector database that, from what I can tell, provides a simple Python SDK and CLI that I can use to build out my knowledge base."
   ]
  },
  {
   "cell_type": "markdown",
   "id": "2d6acf0b",
   "metadata": {},
   "source": [
    "## Getting Started\n",
    "\n",
    "Before we can run any of the code in this notebook, it's expected that you've satisfied the following requirments:\n",
    "\n",
    "1. Install the required dependencies (`poetry install`) inside of an virtual environment (`pyenv`). \n",
    "2. A started Chroma instance exists (`chroma run`)"
   ]
  },
  {
   "cell_type": "markdown",
   "id": "a9048eb6",
   "metadata": {},
   "source": [
    "## Install and Import Dependencies\n",
    "\n",
    "The code demonstrated in this notebook only requires the `chromadb` package, however, to make our output easier to read I've also decided to use the `json` package."
   ]
  },
  {
   "cell_type": "code",
   "execution_count": null,
   "id": "776ad061",
   "metadata": {},
   "outputs": [],
   "source": [
    "%pip install chromadb\n",
    "\n",
    "import chromadb\n",
    "import json"
   ]
  },
  {
   "cell_type": "markdown",
   "id": "1297e115",
   "metadata": {},
   "source": [
    "## Connect to the running Chroma instance\n",
    "\n",
    "An instance of Chroma should be running at http://localhost:8000 after running the `chroma run` command in the virtual environment.\n"
   ]
  },
  {
   "cell_type": "code",
   "execution_count": 6,
   "id": "198f18d8",
   "metadata": {},
   "outputs": [],
   "source": [
    "chroma_client = chromadb.HttpClient(host='localhost', port=8000)"
   ]
  },
  {
   "cell_type": "markdown",
   "id": "62e8b3e3",
   "metadata": {},
   "source": [
    "## Create a collection to store our documents"
   ]
  },
  {
   "cell_type": "code",
   "execution_count": 9,
   "id": "e1e5ebd4",
   "metadata": {},
   "outputs": [],
   "source": [
    "collection = chroma_client.create_collection(name=\"documents\", get_or_create=True)"
   ]
  },
  {
   "cell_type": "markdown",
   "id": "1e61c7f7",
   "metadata": {},
   "source": [
    "## Add static sample documents to the collection"
   ]
  },
  {
   "cell_type": "code",
   "execution_count": 13,
   "id": "311c7aa4",
   "metadata": {},
   "outputs": [],
   "source": [
    "collection.delete(\n",
    "    ids=[\"id1\", \"id2\",],\n",
    ")\n",
    "\n",
    "collection.add(\n",
    "    ids=[\"id1\", \"id2\"],\n",
    "    documents=[\n",
    "        \"Title of a book to be processed\",\n",
    "        \"Title of another book to be processed\"\n",
    "    ]\n",
    ")"
   ]
  },
  {
   "cell_type": "markdown",
   "id": "9f532ef2",
   "metadata": {},
   "source": [
    "## Query the documents collection for existing records"
   ]
  },
  {
   "cell_type": "code",
   "execution_count": 14,
   "id": "0aefd157",
   "metadata": {},
   "outputs": [
    {
     "name": "stdout",
     "output_type": "stream",
     "text": [
      "{\n",
      "  \"ids\": [\n",
      "    [\n",
      "      \"id1\",\n",
      "      \"id2\"\n",
      "    ]\n",
      "  ],\n",
      "  \"distances\": [\n",
      "    [\n",
      "      1.6710149,\n",
      "      1.7113707\n",
      "    ]\n",
      "  ],\n",
      "  \"embeddings\": null,\n",
      "  \"metadatas\": [\n",
      "    [\n",
      "      null,\n",
      "      null\n",
      "    ]\n",
      "  ],\n",
      "  \"documents\": [\n",
      "    [\n",
      "      \"Title of a book to be processed\",\n",
      "      \"Title of another book to be processed\"\n",
      "    ]\n",
      "  ],\n",
      "  \"uris\": null,\n",
      "  \"data\": null,\n",
      "  \"included\": [\n",
      "    \"metadatas\",\n",
      "    \"documents\",\n",
      "    \"distances\"\n",
      "  ]\n",
      "}\n"
     ]
    }
   ],
   "source": [
    "results = collection.query(\n",
    "    query_texts=[\"This is a query document about hawaii\"], # Chroma will embed this for you\n",
    "    n_results=2 # how many results to return\n",
    ")\n",
    "\n",
    "json_results = json.dumps(results, indent=2)\n",
    "\n",
    "print(json_results)"
   ]
  },
  {
   "cell_type": "markdown",
   "id": "3b53233c",
   "metadata": {},
   "source": [
    "## Viewing the collection in the Chroma CLI\n",
    "\n",
    "The documents are viewable / queryable via the Chroma CLI as well. By executing `chroma browse --local documents` at a new terminal window, the documents added with the previous code cell should be viewable."
   ]
  },
  {
   "cell_type": "code",
   "execution_count": null,
   "id": "cc297181",
   "metadata": {},
   "outputs": [],
   "source": [
    "##\n",
    "#\n",
    "# WARNING: I was unable to get the following code block to \n",
    "#          display the table I wanted it to.\n",
    "#\n",
    "##\n",
    "\n",
    "import subprocess\n",
    "\n",
    "cli_result = subprocess.run([\n",
    "    \"chroma\",\n",
    "    \"browse\",\n",
    "    \"--local\",\n",
    "    \"documents\"\n",
    "], capture_output=True, text=True)\n",
    "\n",
    "print(cli_result.stderr)\n",
    "print(cli_result.stdout)\n"
   ]
  }
 ],
 "metadata": {
  "kernelspec": {
   "display_name": "sandbox_vector_database",
   "language": "python",
   "name": "python3"
  },
  "language_info": {
   "codemirror_mode": {
    "name": "ipython",
    "version": 3
   },
   "file_extension": ".py",
   "mimetype": "text/x-python",
   "name": "python",
   "nbconvert_exporter": "python",
   "pygments_lexer": "ipython3",
   "version": "3.13.2"
  }
 },
 "nbformat": 4,
 "nbformat_minor": 5
}
